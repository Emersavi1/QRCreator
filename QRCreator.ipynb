{
  "nbformat": 4,
  "nbformat_minor": 0,
  "metadata": {
    "colab": {
      "provenance": [],
      "authorship_tag": "ABX9TyPl3tP1zoqxMd+3FG91Fzhn",
      "include_colab_link": true
    },
    "kernelspec": {
      "name": "python3",
      "display_name": "Python 3"
    },
    "language_info": {
      "name": "python"
    }
  },
  "cells": [
    {
      "cell_type": "markdown",
      "metadata": {
        "id": "view-in-github",
        "colab_type": "text"
      },
      "source": [
        "<a href=\"https://colab.research.google.com/github/Emersavi1/QRCreator/blob/main/QRCreator.ipynb\" target=\"_parent\"><img src=\"https://colab.research.google.com/assets/colab-badge.svg\" alt=\"Open In Colab\"/></a>"
      ]
    },
    {
      "cell_type": "markdown",
      "source": [
        "**\"Instalar libreria qrcode\"**\n"
      ],
      "metadata": {
        "id": "erRts2ELPpoH"
      }
    },
    {
      "cell_type": "code",
      "execution_count": 6,
      "metadata": {
        "colab": {
          "base_uri": "https://localhost:8080/"
        },
        "id": "jPFOmdimPYLQ",
        "outputId": "d523f9c6-5b11-4d64-c4c8-59b166c0e765"
      },
      "outputs": [
        {
          "output_type": "stream",
          "name": "stdout",
          "text": [
            "Requirement already satisfied: qrcode in /usr/local/lib/python3.10/dist-packages (7.4.2)\n",
            "Requirement already satisfied: typing-extensions in /usr/local/lib/python3.10/dist-packages (from qrcode) (4.5.0)\n",
            "Requirement already satisfied: pypng in /usr/local/lib/python3.10/dist-packages (from qrcode) (0.20220715.0)\n"
          ]
        }
      ],
      "source": [
        "!pip install qrcode"
      ]
    },
    {
      "cell_type": "code",
      "source": [
        "import qrcode\n",
        "from PIL import Image"
      ],
      "metadata": {
        "id": "WpXtvIDiPo3g"
      },
      "execution_count": 12,
      "outputs": []
    },
    {
      "cell_type": "code",
      "source": [
        "qr = qrcode.QRCode(\n",
        "    version=1,\n",
        "    error_correction=qrcode.constants.ERROR_CORRECT_L,\n",
        "    box_size=10,\n",
        "    border=4,\n",
        ")\n",
        "\n",
        "qr.add_data(\"C:\\\\Users\\\\DELL\\\\Desktop\\\\Emerson\")\n",
        "qr.make(fit=True)\n",
        "\n",
        "img = qr.make_image(fill_color=\"black\", back_color=\"white\")\n",
        "img.save(\"output.png\")"
      ],
      "metadata": {
        "id": "Upp48ZCpQT7v"
      },
      "execution_count": 11,
      "outputs": []
    }
  ]
}